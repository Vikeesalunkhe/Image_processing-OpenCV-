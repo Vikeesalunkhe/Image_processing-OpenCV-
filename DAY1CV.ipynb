{
 "cells": [
  {
   "cell_type": "code",
   "execution_count": null,
   "id": "227b50e1-6b92-4a1d-9068-4b0491e4913e",
   "metadata": {},
   "outputs": [],
   "source": [
    "import cv2\n",
    "import numpy as np \n",
    "img=cv2.imread(\"C:\\\\Users\\\\VikeeDada\\\\Downloads\\\\IMG_1667.jpg\")\n",
    "img=cv2.resize(img,(600,600))\n",
    "cv2.imshow(\"me\",img)\n",
    "cv2.waitKey(0)\n"
   ]
  },
  {
   "cell_type": "code",
   "execution_count": null,
   "id": "1cb287d0-44d9-419c-8544-94fdfa4e8b30",
   "metadata": {},
   "outputs": [],
   "source": []
  }
 ],
 "metadata": {
  "kernelspec": {
   "display_name": "Python 3 (ipykernel)",
   "language": "python",
   "name": "python3"
  },
  "language_info": {
   "codemirror_mode": {
    "name": "ipython",
    "version": 3
   },
   "file_extension": ".py",
   "mimetype": "text/x-python",
   "name": "python",
   "nbconvert_exporter": "python",
   "pygments_lexer": "ipython3",
   "version": "3.9.7"
  }
 },
 "nbformat": 4,
 "nbformat_minor": 5
}
