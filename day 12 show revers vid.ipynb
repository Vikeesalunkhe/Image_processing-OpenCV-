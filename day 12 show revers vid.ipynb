{
 "cells": [
  {
   "cell_type": "code",
   "execution_count": 1,
   "id": "509606df-5678-44bc-a160-32cee4d53eac",
   "metadata": {},
   "outputs": [
    {
     "ename": "AttributeError",
     "evalue": "module 'cv2' has no attribute 'destroyA11windows'",
     "output_type": "error",
     "traceback": [
      "\u001b[1;31m---------------------------------------------------------------------------\u001b[0m",
      "\u001b[1;31mAttributeError\u001b[0m                            Traceback (most recent call last)",
      "\u001b[1;32mC:\\Users\\VIKEED~1\\AppData\\Local\\Temp/ipykernel_18816/1976005886.py\u001b[0m in \u001b[0;36m<module>\u001b[1;34m\u001b[0m\n\u001b[0;32m     12\u001b[0m          \u001b[1;32mbreak\u001b[0m\u001b[1;33m\u001b[0m\u001b[1;33m\u001b[0m\u001b[0m\n\u001b[0;32m     13\u001b[0m \u001b[0mcap\u001b[0m\u001b[1;33m.\u001b[0m\u001b[0mrelease\u001b[0m\u001b[1;33m(\u001b[0m\u001b[1;33m)\u001b[0m\u001b[1;33m\u001b[0m\u001b[1;33m\u001b[0m\u001b[0m\n\u001b[1;32m---> 14\u001b[1;33m \u001b[0mcv2\u001b[0m\u001b[1;33m.\u001b[0m\u001b[0mdestroyA11windows\u001b[0m\u001b[1;33m\u001b[0m\u001b[1;33m\u001b[0m\u001b[0m\n\u001b[0m",
      "\u001b[1;31mAttributeError\u001b[0m: module 'cv2' has no attribute 'destroyA11windows'"
     ]
    }
   ],
   "source": [
    "import cv2\n",
    "\n",
    "\n",
    "cap=cv2.VideoCapture(0)\n",
    "\n",
    "\n",
    "while(True):\n",
    "    res,vid=cap.read()\n",
    "    cv2.imshow(\"frame\",vid)\n",
    "    \n",
    "    if cv2.waitKey(25)  &  0xFF==ord(\"q\"):\n",
    "         break\n",
    "cap.release()\n",
    "cv2.destroyA11windows\n"
   ]
  },
  {
   "cell_type": "code",
   "execution_count": null,
   "id": "ef65e267-6eb6-4cbc-8bd6-77e2cf8f3ab4",
   "metadata": {},
   "outputs": [],
   "source": [
    "import cv2\n",
    "\n",
    "cap=cv2.VideoCapture(\"C:\\\\Users\\\\VikeeDada\\\\Videos\\\\VN20221103_104044.mp4\")\n",
    "res,Vid=cap.read()\n",
    "\n",
    "count=0\n",
    "\n",
    "frame_list=[]\n",
    "\n",
    "while(res==True):\n",
    "    res,vid=cap.read()\n",
    "    \n",
    "    frame_list.append(vid)\n",
    "    \n",
    "    count+=1\n",
    "\n",
    "frame_list.pop()\n",
    "for frame in frame_list:  \n",
    "    cv2.imshow(\"frame\",frame)\n",
    "    if cv2.waitKey(25) & 0xff==ord(\"q\"):\n",
    "        break\n",
    "cap.release()\n",
    "cv2.destroyA11Windows()\n",
    "\n",
    "frame_list.reverse()\n",
    "\n",
    "for frame in frame_list:\n",
    "    cv2.imshow(\"frame\",frame)\n",
    "    if cv2.waitKey(25)  & 0xFF==ord(\"q\"):\n",
    "        break\n",
    "cap.release()\n",
    "cv2.destroyA11Windows()\n",
    "    \n",
    "    "
   ]
  },
  {
   "cell_type": "code",
   "execution_count": null,
   "id": "5f8ad511-0761-4dd9-b579-4519ff706047",
   "metadata": {},
   "outputs": [],
   "source": []
  },
  {
   "cell_type": "code",
   "execution_count": null,
   "id": "760ba575-5cb4-4c7b-adc6-9072aa5824b5",
   "metadata": {},
   "outputs": [],
   "source": []
  }
 ],
 "metadata": {
  "kernelspec": {
   "display_name": "Python 3 (ipykernel)",
   "language": "python",
   "name": "python3"
  },
  "language_info": {
   "codemirror_mode": {
    "name": "ipython",
    "version": 3
   },
   "file_extension": ".py",
   "mimetype": "text/x-python",
   "name": "python",
   "nbconvert_exporter": "python",
   "pygments_lexer": "ipython3",
   "version": "3.9.7"
  }
 },
 "nbformat": 4,
 "nbformat_minor": 5
}
