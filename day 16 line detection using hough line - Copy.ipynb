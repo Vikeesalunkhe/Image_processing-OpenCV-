{
 "cells": [
  {
   "cell_type": "code",
   "execution_count": 1,
   "id": "0b990ff9-26f4-4ec4-a9a1-92b1188a66e3",
   "metadata": {},
   "outputs": [
    {
     "ename": "",
     "evalue": "",
     "output_type": "error",
     "traceback": [
      "\u001b[1;31mThe Kernel crashed while executing code in the the current cell or a previous cell. Please review the code in the cell(s) to identify a possible cause of the failure. Click <a href='https://aka.ms/vscodeJupyterKernelCrash'>here</a> for more info. View Jupyter <a href='command:jupyter.viewOutput'>log</a> for further details."
     ]
    }
   ],
   "source": [
    "import cv2 \n",
    "import numpy as np\n",
    "\n",
    "img=cv2.imread(\"C:\\\\Users\\\\VikeeDada\\\\Downloads\\\\sudoku.png\")\n",
    "gray=cv2.cvtColor(img,cv2.COLOR_BGR2GRAY)\n",
    "edges=cv2.Canny(gray,50,150)\n",
    "cv2.imshow(\"original_image\",img)\n",
    "cv2.imshow(\"edge_image\",edges)"
   ]
  },
  {
   "cell_type": "code",
   "execution_count": null,
   "id": "7e597c04-b82c-4326-84cc-7b91e31b8b97",
   "metadata": {},
   "outputs": [],
   "source": []
  },
  {
   "cell_type": "code",
   "execution_count": null,
   "id": "9ec461e3-688d-49c1-af40-2180667c50c0",
   "metadata": {},
   "outputs": [],
   "source": []
  }
 ],
 "metadata": {
  "kernelspec": {
   "display_name": "Python 3.10.7 64-bit",
   "language": "python",
   "name": "python3"
  },
  "language_info": {
   "codemirror_mode": {
    "name": "ipython",
    "version": 3
   },
   "file_extension": ".py",
   "mimetype": "text/x-python",
   "name": "python",
   "nbconvert_exporter": "python",
   "pygments_lexer": "ipython3",
   "version": "3.10.7"
  },
  "vscode": {
   "interpreter": {
    "hash": "d09e0ea22abe7ad48e6194e1cc78a96d0c6b9341b25c34179bcf33d9be4d153d"
   }
  }
 },
 "nbformat": 4,
 "nbformat_minor": 5
}
