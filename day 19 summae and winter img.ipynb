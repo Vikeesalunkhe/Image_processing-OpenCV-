{
 "cells": [
  {
   "cell_type": "code",
   "execution_count": 1,
   "id": "1c156525-f07c-4c51-83b2-f59f43897f64",
   "metadata": {},
   "outputs": [
    {
     "ename": "",
     "evalue": "",
     "output_type": "error",
     "traceback": [
      "\u001b[1;31mThe Kernel crashed while executing code in the the current cell or a previous cell. Please review the code in the cell(s) to identify a possible cause of the failure. Click <a href='https://aka.ms/vscodeJupyterKernelCrash'>here</a> for more info. View Jupyter <a href='command:jupyter.viewOutput'>log</a> for further details."
     ]
    }
   ],
   "source": [
    "import cv2\n",
    "import numpy as np\n",
    "import scipy\n",
    "from scipy.interpolate import UnivariateSpline\n",
    "\n",
    "image=cv2.imread(r\"C:\\Users\\VikeeDada\\Downloads\\orange img opencv.jpg\")\n",
    "image=cv2.resize(image,(500,500))\n",
    "\n",
    "def LookupTable(x, y):\n",
    "  spline = UnivariateSpline(x, y)\n",
    "  return spline(range(256))\n",
    "\n",
    "#summer effect\n",
    "def Summer(img):\n",
    "    increaseLookupTable = LookupTable([0, 64, 128, 256], [0, 80, 160, 256])\n",
    "    decreaseLookupTable = LookupTable([0, 64, 128, 256], [0, 50, 100, 256])\n",
    "    blue_channel, green_channel,red_channel  = cv2.split(img)\n",
    "    red_channel = cv2.LUT(red_channel, increaseLookupTable).astype(np.uint8)\n",
    "    blue_channel = cv2.LUT(blue_channel, decreaseLookupTable).astype(np.uint8)\n",
    "    sum= cv2.merge((blue_channel, green_channel, red_channel ))\n",
    "    return sum\n",
    "\n",
    "def Winter(img):\n",
    "    increaseLookupTable = LookupTable([0, 64, 128, 256], [0, 80, 160, 256])\n",
    "    decreaseLookupTable = LookupTable([0, 64, 128, 256], [0, 50, 100, 256])\n",
    "    blue_channel, green_channel,red_channel = cv2.split(img)\n",
    "    red_channel = cv2.LUT(red_channel, decreaseLookupTable).astype(np.uint8)\n",
    "    blue_channel = cv2.LUT(blue_channel, increaseLookupTable).astype(np.uint8)\n",
    "    win= cv2.merge((blue_channel, green_channel, red_channel))\n",
    "    return win\n",
    "\n",
    "summer = Summer(image)\n",
    "winter=Winter(image)\n",
    "cv2.imshow(\"summer\",summer)\n",
    "cv2.imshow(\"winter\",winter)\n"
   ]
  },
  {
   "cell_type": "code",
   "execution_count": null,
   "id": "1bc3ba37-4433-491a-bb74-ae6b635989f2",
   "metadata": {},
   "outputs": [],
   "source": []
  }
 ],
 "metadata": {
  "kernelspec": {
   "display_name": "Python 3.10.7 64-bit",
   "language": "python",
   "name": "python3"
  },
  "language_info": {
   "codemirror_mode": {
    "name": "ipython",
    "version": 3
   },
   "file_extension": ".py",
   "mimetype": "text/x-python",
   "name": "python",
   "nbconvert_exporter": "python",
   "pygments_lexer": "ipython3",
   "version": "3.10.7"
  },
  "vscode": {
   "interpreter": {
    "hash": "d09e0ea22abe7ad48e6194e1cc78a96d0c6b9341b25c34179bcf33d9be4d153d"
   }
  }
 },
 "nbformat": 4,
 "nbformat_minor": 5
}
